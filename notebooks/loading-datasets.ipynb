{
  "cells": [
    {
      "cell_type": "markdown",
      "metadata": {
        "id": "-3q3ehY_SaeH"
      },
      "source": [
        "# Loading Datasets\n",
        "\n",
        "One of the first things you need to know to dive into the EdgeSimPy universe is to load datasets. Once you understand how EdgeSimPy loads data, you can use existing datasets or even build your own simulated scenarios to prototype resource management strategies. This tutorial will guide you through the different ways of loading data supported by EdgeSimPy.\n",
        "\n",
        "Before digging into EdgeSimPy's load dataset features, we must load the simulator modules. We can do that with the following command:"
      ]
    },
    {
      "cell_type": "code",
      "execution_count": 25,
      "metadata": {
        "id": "qx6WiuLeSaeJ",
        "outputId": "e31ec09a-2636-4e11-a6f8-b0ed1924376f",
        "colab": {
          "base_uri": "https://localhost:8080/",
          "height": 529
        }
      },
      "outputs": [
        {
          "output_type": "error",
          "ename": "ImportError",
          "evalue": "cannot import name 'AgentSet' from 'mesa.agent' (/usr/local/lib/python3.11/dist-packages/mesa/agent.py)",
          "traceback": [
            "\u001b[0;31m---------------------------------------------------------------------------\u001b[0m",
            "\u001b[0;31mImportError\u001b[0m                               Traceback (most recent call last)",
            "\u001b[0;32m<ipython-input-25-0b137eb10719>\u001b[0m in \u001b[0;36m<cell line: 0>\u001b[0;34m()\u001b[0m\n\u001b[1;32m      1\u001b[0m \u001b[0;32mtry\u001b[0m\u001b[0;34m:\u001b[0m\u001b[0;34m\u001b[0m\u001b[0;34m\u001b[0m\u001b[0m\n\u001b[1;32m      2\u001b[0m     \u001b[0;31m# Importing EdgeSimPy components\u001b[0m\u001b[0;34m\u001b[0m\u001b[0;34m\u001b[0m\u001b[0m\n\u001b[0;32m----> 3\u001b[0;31m     \u001b[0;32mfrom\u001b[0m \u001b[0medge_sim_py\u001b[0m \u001b[0;32mimport\u001b[0m \u001b[0;34m*\u001b[0m\u001b[0;34m\u001b[0m\u001b[0;34m\u001b[0m\u001b[0m\n\u001b[0m\u001b[1;32m      4\u001b[0m     \u001b[0;32mimport\u001b[0m \u001b[0mnetworkx\u001b[0m \u001b[0;32mas\u001b[0m \u001b[0mnx\u001b[0m\u001b[0;34m\u001b[0m\u001b[0;34m\u001b[0m\u001b[0m\n\u001b[1;32m      5\u001b[0m     \u001b[0;32mimport\u001b[0m \u001b[0mmsgpack\u001b[0m\u001b[0;34m\u001b[0m\u001b[0;34m\u001b[0m\u001b[0m\n",
            "\u001b[0;32m/usr/local/lib/python3.11/dist-packages/edge_sim_py/__init__.py\u001b[0m in \u001b[0;36m<module>\u001b[0;34m\u001b[0m\n\u001b[1;32m      4\u001b[0m \u001b[0;34m\u001b[0m\u001b[0m\n\u001b[1;32m      5\u001b[0m \u001b[0;31m# Main simulation component\u001b[0m\u001b[0;34m\u001b[0m\u001b[0;34m\u001b[0m\u001b[0m\n\u001b[0;32m----> 6\u001b[0;31m \u001b[0;32mfrom\u001b[0m \u001b[0;34m.\u001b[0m\u001b[0msimulator\u001b[0m \u001b[0;32mimport\u001b[0m \u001b[0mSimulator\u001b[0m\u001b[0;34m\u001b[0m\u001b[0;34m\u001b[0m\u001b[0m\n\u001b[0m\u001b[1;32m      7\u001b[0m \u001b[0;34m\u001b[0m\u001b[0m\n\u001b[1;32m      8\u001b[0m \u001b[0;31m# Misc components\u001b[0m\u001b[0;34m\u001b[0m\u001b[0;34m\u001b[0m\u001b[0m\n",
            "\u001b[0;32m/usr/local/lib/python3.11/dist-packages/edge_sim_py/simulator.py\u001b[0m in \u001b[0;36m<module>\u001b[0;34m\u001b[0m\n\u001b[1;32m      2\u001b[0m \u001b[0;31m# EdgeSimPy components\u001b[0m\u001b[0;34m\u001b[0m\u001b[0;34m\u001b[0m\u001b[0m\n\u001b[1;32m      3\u001b[0m \u001b[0;32mfrom\u001b[0m \u001b[0medge_sim_py\u001b[0m\u001b[0;34m.\u001b[0m\u001b[0mcomponent_manager\u001b[0m \u001b[0;32mimport\u001b[0m \u001b[0mComponentManager\u001b[0m\u001b[0;34m\u001b[0m\u001b[0;34m\u001b[0m\u001b[0m\n\u001b[0;32m----> 4\u001b[0;31m \u001b[0;32mfrom\u001b[0m \u001b[0medge_sim_py\u001b[0m\u001b[0;34m.\u001b[0m\u001b[0mcomponents\u001b[0m \u001b[0;32mimport\u001b[0m \u001b[0;34m*\u001b[0m\u001b[0;34m\u001b[0m\u001b[0;34m\u001b[0m\u001b[0m\n\u001b[0m\u001b[1;32m      5\u001b[0m \u001b[0;32mfrom\u001b[0m \u001b[0medge_sim_py\u001b[0m\u001b[0;34m.\u001b[0m\u001b[0mactivation_schedulers\u001b[0m \u001b[0;32mimport\u001b[0m \u001b[0;34m*\u001b[0m\u001b[0;34m\u001b[0m\u001b[0;34m\u001b[0m\u001b[0m\n\u001b[1;32m      6\u001b[0m \u001b[0;34m\u001b[0m\u001b[0m\n",
            "\u001b[0;32m/usr/local/lib/python3.11/dist-packages/edge_sim_py/components/__init__.py\u001b[0m in \u001b[0;36m<module>\u001b[0;34m\u001b[0m\n\u001b[1;32m      3\u001b[0m \u001b[0;34m\u001b[0m\u001b[0m\n\u001b[1;32m      4\u001b[0m \u001b[0;31m# EdgeSimPy Components\u001b[0m\u001b[0;34m\u001b[0m\u001b[0;34m\u001b[0m\u001b[0m\n\u001b[0;32m----> 5\u001b[0;31m \u001b[0;32mfrom\u001b[0m \u001b[0;34m.\u001b[0m\u001b[0mtopology\u001b[0m \u001b[0;32mimport\u001b[0m \u001b[0mTopology\u001b[0m\u001b[0;34m\u001b[0m\u001b[0;34m\u001b[0m\u001b[0m\n\u001b[0m\u001b[1;32m      6\u001b[0m \u001b[0;32mfrom\u001b[0m \u001b[0;34m.\u001b[0m\u001b[0mnetwork_switch\u001b[0m \u001b[0;32mimport\u001b[0m \u001b[0mNetworkSwitch\u001b[0m\u001b[0;34m\u001b[0m\u001b[0;34m\u001b[0m\u001b[0m\n\u001b[1;32m      7\u001b[0m \u001b[0;32mfrom\u001b[0m \u001b[0;34m.\u001b[0m\u001b[0mnetwork_link\u001b[0m \u001b[0;32mimport\u001b[0m \u001b[0mNetworkLink\u001b[0m\u001b[0;34m\u001b[0m\u001b[0;34m\u001b[0m\u001b[0m\n",
            "\u001b[0;32m/usr/local/lib/python3.11/dist-packages/edge_sim_py/components/topology.py\u001b[0m in \u001b[0;36m<module>\u001b[0;34m\u001b[0m\n\u001b[1;32m      2\u001b[0m \u001b[0;31m# EdgeSimPy components\u001b[0m\u001b[0;34m\u001b[0m\u001b[0;34m\u001b[0m\u001b[0m\n\u001b[1;32m      3\u001b[0m \u001b[0;32mfrom\u001b[0m \u001b[0medge_sim_py\u001b[0m\u001b[0;34m.\u001b[0m\u001b[0mcomponent_manager\u001b[0m \u001b[0;32mimport\u001b[0m \u001b[0mComponentManager\u001b[0m\u001b[0;34m\u001b[0m\u001b[0;34m\u001b[0m\u001b[0m\n\u001b[0;32m----> 4\u001b[0;31m \u001b[0;32mfrom\u001b[0m \u001b[0medge_sim_py\u001b[0m\u001b[0;34m.\u001b[0m\u001b[0mcomponents\u001b[0m\u001b[0;34m.\u001b[0m\u001b[0mnetwork_flow\u001b[0m \u001b[0;32mimport\u001b[0m \u001b[0mNetworkFlow\u001b[0m\u001b[0;34m\u001b[0m\u001b[0;34m\u001b[0m\u001b[0m\n\u001b[0m\u001b[1;32m      5\u001b[0m \u001b[0;34m\u001b[0m\u001b[0m\n\u001b[1;32m      6\u001b[0m \u001b[0;31m# Mesa modules\u001b[0m\u001b[0;34m\u001b[0m\u001b[0;34m\u001b[0m\u001b[0m\n",
            "\u001b[0;32m/usr/local/lib/python3.11/dist-packages/edge_sim_py/components/network_flow.py\u001b[0m in \u001b[0;36m<module>\u001b[0;34m\u001b[0m\n\u001b[1;32m      4\u001b[0m \u001b[0;34m\u001b[0m\u001b[0m\n\u001b[1;32m      5\u001b[0m \u001b[0;31m# Mesa modules\u001b[0m\u001b[0;34m\u001b[0m\u001b[0;34m\u001b[0m\u001b[0m\n\u001b[0;32m----> 6\u001b[0;31m \u001b[0;32mfrom\u001b[0m \u001b[0mmesa\u001b[0m \u001b[0;32mimport\u001b[0m \u001b[0mAgent\u001b[0m\u001b[0;34m\u001b[0m\u001b[0;34m\u001b[0m\u001b[0m\n\u001b[0m\u001b[1;32m      7\u001b[0m \u001b[0;34m\u001b[0m\u001b[0m\n\u001b[1;32m      8\u001b[0m \u001b[0;34m\u001b[0m\u001b[0m\n",
            "\u001b[0;32m/usr/local/lib/python3.11/dist-packages/mesa/__init__.py\u001b[0m in \u001b[0;36m<module>\u001b[0;34m\u001b[0m\n\u001b[1;32m      6\u001b[0m \u001b[0;32mimport\u001b[0m \u001b[0mdatetime\u001b[0m\u001b[0;34m\u001b[0m\u001b[0;34m\u001b[0m\u001b[0m\n\u001b[1;32m      7\u001b[0m \u001b[0;34m\u001b[0m\u001b[0m\n\u001b[0;32m----> 8\u001b[0;31m \u001b[0;32mimport\u001b[0m \u001b[0mmesa\u001b[0m\u001b[0;34m.\u001b[0m\u001b[0mexperimental\u001b[0m \u001b[0;32mas\u001b[0m \u001b[0mexperimental\u001b[0m\u001b[0;34m\u001b[0m\u001b[0;34m\u001b[0m\u001b[0m\n\u001b[0m\u001b[1;32m      9\u001b[0m \u001b[0;32mimport\u001b[0m \u001b[0mmesa\u001b[0m\u001b[0;34m.\u001b[0m\u001b[0mspace\u001b[0m \u001b[0;32mas\u001b[0m \u001b[0mspace\u001b[0m\u001b[0;34m\u001b[0m\u001b[0;34m\u001b[0m\u001b[0m\n\u001b[1;32m     10\u001b[0m \u001b[0;32mfrom\u001b[0m \u001b[0mmesa\u001b[0m\u001b[0;34m.\u001b[0m\u001b[0magent\u001b[0m \u001b[0;32mimport\u001b[0m \u001b[0mAgent\u001b[0m\u001b[0;34m\u001b[0m\u001b[0;34m\u001b[0m\u001b[0m\n",
            "\u001b[0;32m/usr/local/lib/python3.11/dist-packages/mesa/experimental/__init__.py\u001b[0m in \u001b[0;36m<module>\u001b[0;34m\u001b[0m\n\u001b[1;32m     16\u001b[0m \"\"\"\n\u001b[1;32m     17\u001b[0m \u001b[0;34m\u001b[0m\u001b[0m\n\u001b[0;32m---> 18\u001b[0;31m \u001b[0;32mfrom\u001b[0m \u001b[0mmesa\u001b[0m\u001b[0;34m.\u001b[0m\u001b[0mexperimental\u001b[0m \u001b[0;32mimport\u001b[0m \u001b[0mcell_space\u001b[0m\u001b[0;34m,\u001b[0m \u001b[0mcontinuous_space\u001b[0m\u001b[0;34m,\u001b[0m \u001b[0mdevs\u001b[0m\u001b[0;34m,\u001b[0m \u001b[0mmesa_signals\u001b[0m\u001b[0;34m\u001b[0m\u001b[0;34m\u001b[0m\u001b[0m\n\u001b[0m\u001b[1;32m     19\u001b[0m \u001b[0;34m\u001b[0m\u001b[0m\n\u001b[1;32m     20\u001b[0m \u001b[0m__all__\u001b[0m \u001b[0;34m=\u001b[0m \u001b[0;34m[\u001b[0m\u001b[0;34m\"cell_space\"\u001b[0m\u001b[0;34m,\u001b[0m \u001b[0;34m\"continuous_space\"\u001b[0m\u001b[0;34m,\u001b[0m \u001b[0;34m\"devs\"\u001b[0m\u001b[0;34m,\u001b[0m \u001b[0;34m\"mesa_signals\"\u001b[0m\u001b[0;34m]\u001b[0m\u001b[0;34m\u001b[0m\u001b[0;34m\u001b[0m\u001b[0m\n",
            "\u001b[0;32m/usr/local/lib/python3.11/dist-packages/mesa/experimental/cell_space/__init__.py\u001b[0m in \u001b[0;36m<module>\u001b[0;34m\u001b[0m\n\u001b[1;32m     23\u001b[0m )\n\u001b[1;32m     24\u001b[0m \u001b[0;32mfrom\u001b[0m \u001b[0mmesa\u001b[0m\u001b[0;34m.\u001b[0m\u001b[0mexperimental\u001b[0m\u001b[0;34m.\u001b[0m\u001b[0mcell_space\u001b[0m\u001b[0;34m.\u001b[0m\u001b[0mcell_collection\u001b[0m \u001b[0;32mimport\u001b[0m \u001b[0mCellCollection\u001b[0m\u001b[0;34m\u001b[0m\u001b[0;34m\u001b[0m\u001b[0m\n\u001b[0;32m---> 25\u001b[0;31m \u001b[0;32mfrom\u001b[0m \u001b[0mmesa\u001b[0m\u001b[0;34m.\u001b[0m\u001b[0mexperimental\u001b[0m\u001b[0;34m.\u001b[0m\u001b[0mcell_space\u001b[0m\u001b[0;34m.\u001b[0m\u001b[0mdiscrete_space\u001b[0m \u001b[0;32mimport\u001b[0m \u001b[0mDiscreteSpace\u001b[0m\u001b[0;34m\u001b[0m\u001b[0;34m\u001b[0m\u001b[0m\n\u001b[0m\u001b[1;32m     26\u001b[0m from mesa.experimental.cell_space.grid import (\n\u001b[1;32m     27\u001b[0m     \u001b[0mGrid\u001b[0m\u001b[0;34m,\u001b[0m\u001b[0;34m\u001b[0m\u001b[0;34m\u001b[0m\u001b[0m\n",
            "\u001b[0;32m/usr/local/lib/python3.11/dist-packages/mesa/experimental/cell_space/discrete_space.py\u001b[0m in \u001b[0;36m<module>\u001b[0;34m\u001b[0m\n\u001b[1;32m     21\u001b[0m \u001b[0;32mfrom\u001b[0m \u001b[0mtyping\u001b[0m \u001b[0;32mimport\u001b[0m \u001b[0mGeneric\u001b[0m\u001b[0;34m,\u001b[0m \u001b[0mTypeVar\u001b[0m\u001b[0;34m\u001b[0m\u001b[0;34m\u001b[0m\u001b[0m\n\u001b[1;32m     22\u001b[0m \u001b[0;34m\u001b[0m\u001b[0m\n\u001b[0;32m---> 23\u001b[0;31m \u001b[0;32mfrom\u001b[0m \u001b[0mmesa\u001b[0m\u001b[0;34m.\u001b[0m\u001b[0magent\u001b[0m \u001b[0;32mimport\u001b[0m \u001b[0mAgentSet\u001b[0m\u001b[0;34m\u001b[0m\u001b[0;34m\u001b[0m\u001b[0m\n\u001b[0m\u001b[1;32m     24\u001b[0m \u001b[0;32mfrom\u001b[0m \u001b[0mmesa\u001b[0m\u001b[0;34m.\u001b[0m\u001b[0mexperimental\u001b[0m\u001b[0;34m.\u001b[0m\u001b[0mcell_space\u001b[0m\u001b[0;34m.\u001b[0m\u001b[0mcell\u001b[0m \u001b[0;32mimport\u001b[0m \u001b[0mCell\u001b[0m\u001b[0;34m\u001b[0m\u001b[0;34m\u001b[0m\u001b[0m\n\u001b[1;32m     25\u001b[0m \u001b[0;32mfrom\u001b[0m \u001b[0mmesa\u001b[0m\u001b[0;34m.\u001b[0m\u001b[0mexperimental\u001b[0m\u001b[0;34m.\u001b[0m\u001b[0mcell_space\u001b[0m\u001b[0;34m.\u001b[0m\u001b[0mcell_collection\u001b[0m \u001b[0;32mimport\u001b[0m \u001b[0mCellCollection\u001b[0m\u001b[0;34m\u001b[0m\u001b[0;34m\u001b[0m\u001b[0m\n",
            "\u001b[0;31mImportError\u001b[0m: cannot import name 'AgentSet' from 'mesa.agent' (/usr/local/lib/python3.11/dist-packages/mesa/agent.py)",
            "",
            "\u001b[0;31m---------------------------------------------------------------------------\u001b[0;32m\nNOTE: If your import is failing due to a missing package, you can\nmanually install dependencies using either !pip or !apt.\n\nTo view examples of installing some common dependencies, click the\n\"Open Examples\" button below.\n\u001b[0;31m---------------------------------------------------------------------------\u001b[0m\n"
          ],
          "errorDetails": {
            "actions": [
              {
                "action": "open_url",
                "actionText": "Open Examples",
                "url": "/notebooks/snippets/importing_libraries.ipynb"
              }
            ]
          }
        }
      ],
      "source": [
        "try:\n",
        "    # Importing EdgeSimPy components\n",
        "    from edge_sim_py import *\n",
        "    import networkx as nx\n",
        "    import msgpack\n",
        "\n",
        "    # Importing Matplotlib, Pandas, and NumPy for logs parsing and visualization\n",
        "    import matplotlib.pyplot as plt\n",
        "    import pandas as pd\n",
        "    import numpy as np\n",
        "\n",
        "except ModuleNotFoundError:\n",
        "    # Downloading EdgeSimPy binaries from GitHub (the \"-q\" parameter suppresses Pip's output. You check the full logs by removing it)\n",
        "    %pip install -q git+https://github.com/EdgeSimPy/EdgeSimPy.git\n",
        "\n",
        "    # Downloading Pandas, NumPy, and Matplotlib (these are not directly used here, but they can be useful for logs parsing and visualization)\n",
        "    %pip install -q pandas==2.2.2\n",
        "    %pip install -q numpy==1.26.4\n",
        "    %pip install -q matplotlib==3.8.0\n",
        "\n",
        "    # Importing EdgeSimPy components and its built-in libraries (NetworkX and MessagePack)\n",
        "    from edge_sim_py import *\n",
        "    import networkx as nx\n",
        "    import msgpack\n",
        "\n",
        "    # Importing Matplotlib, Pandas, and NumPy for logs parsing and visualization\n",
        "    import matplotlib.pyplot as plt\n",
        "    import pandas as pd\n",
        "    import numpy as np"
      ]
    },
    {
      "cell_type": "markdown",
      "metadata": {
        "id": "KnOK62R2SaeL"
      },
      "source": [
        "## Loading Datasets from URLs\n",
        "\n",
        "With the rise of open science and reproducibility, researchers are increasingly publishing online the research artifacts of their papers. Considering that, EdgeSimPy allows you to load datasets through public URLs without burden.\n",
        "\n",
        "To load external datasets into EdgeSimPy, we simply need to call the `initialize()` method informing the dataset's URL in the `input_file` attribute, as shown below.\n"
      ]
    },
    {
      "cell_type": "code",
      "execution_count": null,
      "metadata": {
        "id": "SEiIyaPHSaeM",
        "outputId": "3356bd6e-2a83-4b6b-c30c-40296e0885fa"
      },
      "outputs": [
        {
          "name": "stdout",
          "output_type": "stream",
          "text": [
            "User_1. Coordinates: [6, 0]\n",
            "User_2. Coordinates: [3, 1]\n",
            "User_3. Coordinates: [2, 2]\n",
            "User_4. Coordinates: [6, 0]\n",
            "User_5. Coordinates: [4, 2]\n",
            "User_6. Coordinates: [3, 3]\n"
          ]
        }
      ],
      "source": [
        "# Creating a Simulator object\n",
        "simulator = Simulator()\n",
        "\n",
        "# Loading the dataset file from the external JSON file\n",
        "simulator.initialize(input_file=\"https://raw.githubusercontent.com/EdgeSimPy/edgesimpy-tutorials/master/datasets/sample_dataset1.json\")\n",
        "\n",
        "# Displaying some of the objects loaded from the dataset\n",
        "for user in User.all():\n",
        "    print(f\"{user}. Coordinates: {user.coordinates}\")"
      ]
    },
    {
      "cell_type": "markdown",
      "metadata": {
        "id": "IC6xk_GYSaeN"
      },
      "source": [
        "## Loading Datasets from Local Files\n",
        "\n",
        "EdgeSimPy also facilitates loading data from local dataset files. In this case, we just need to call the `initialize()` method, passing the location of the local dataset file in the `input_file` attribute.\n",
        "\n",
        "EdgeSimPy automatically identifies both absolute paths (e.g., `/home/user/my_research/dataset.json`) and relative paths (e.g., `my_research/dataset.json`). In the code below, EdgeSimPy loads a dataset from a local file called `dataset.json`.\n",
        "\n",
        "Please notice that we must download the `dataset.json` file before calling the `initialize()` method, or it will not work.\n"
      ]
    },
    {
      "cell_type": "code",
      "execution_count": null,
      "metadata": {
        "id": "JQJA1E6fSaeN",
        "outputId": "25a8549f-dc05-4e2e-cbe7-d0aa092e93c0"
      },
      "outputs": [
        {
          "name": "stdout",
          "output_type": "stream",
          "text": [
            "  % Total    % Received % Xferd  Average Speed   Time    Time     Time  Current\n",
            "                                 Dload  Upload   Total   Spent    Left  Speed\n",
            "100  142k  100  142k    0     0   750k      0 --:--:-- --:--:-- --:--:--  752k\n",
            "EdgeServer_1. CPU Capacity: 8 cores\n",
            "EdgeServer_2. CPU Capacity: 8 cores\n",
            "EdgeServer_3. CPU Capacity: 8 cores\n",
            "EdgeServer_4. CPU Capacity: 8 cores\n",
            "EdgeServer_5. CPU Capacity: 12 cores\n",
            "EdgeServer_6. CPU Capacity: 12 cores\n"
          ]
        }
      ],
      "source": [
        "!curl https://raw.githubusercontent.com/EdgeSimPy/edgesimpy-tutorials/master/datasets/sample_dataset1.json --output dataset.json\n",
        "\n",
        "# Creating a Simulator object\n",
        "simulator = Simulator()\n",
        "\n",
        "# Loading the dataset from the local \"dataset.json\" file\n",
        "simulator.initialize(input_file=\"dataset.json\")\n",
        "\n",
        "# Displaying some of the objects loaded from the dataset\n",
        "for edge_server in EdgeServer.all():\n",
        "    print(f\"{edge_server}. CPU Capacity: {edge_server.cpu} cores\")"
      ]
    },
    {
      "cell_type": "markdown",
      "metadata": {
        "id": "k8PzjDk7SaeO"
      },
      "source": [
        "## Loading Datasets from Python Dictionaries\n",
        "\n",
        "In addition to allowing us to load datasets from external and local files written in JSON format, EdgeSimPy also reads datasets encoded as Python dictionaries. To use that feature, we just need to pass a valid Python dictionary to the `input_file` attribute of the `initialize()` method. In the example below, EdgeSimPy reads a dataset from a Python dictionary containing a couple of users. For simplicity, users only have two attributes: `id` and `coordinates`—regular `User` objects would have other attributes.\n"
      ]
    },
    {
      "cell_type": "code",
      "execution_count": null,
      "metadata": {
        "id": "_03MZIKySaeP",
        "outputId": "65de9371-9ba8-4c54-bd5c-c6cadf5f3ec4"
      },
      "outputs": [
        {
          "name": "stdout",
          "output_type": "stream",
          "text": [
            "User_1. Coordinates: [1, 1]\n",
            "User_2. Coordinates: [3, 3]\n",
            "User_3. Coordinates: [5, 1]\n",
            "User_4. Coordinates: [0, 0]\n"
          ]
        }
      ],
      "source": [
        "# Creating a Python dictionary representing a sample dataset with a couple of users\n",
        "my_simplified_dataset = {\n",
        "    \"User\": [\n",
        "        {\n",
        "            \"attributes\": {\n",
        "                \"id\": 1,\n",
        "                \"coordinates\": [\n",
        "                    1,\n",
        "                    1\n",
        "                ]\n",
        "            },\n",
        "            \"relationships\": {}\n",
        "        },\n",
        "        {\n",
        "            \"attributes\": {\n",
        "                \"id\": 2,\n",
        "                \"coordinates\": [\n",
        "                    3,\n",
        "                    3\n",
        "                ]\n",
        "            },\n",
        "            \"relationships\": {}\n",
        "        },\n",
        "        {\n",
        "            \"attributes\": {\n",
        "                \"id\": 3,\n",
        "                \"coordinates\": [\n",
        "                    5,\n",
        "                    1\n",
        "                ]\n",
        "            },\n",
        "            \"relationships\": {}\n",
        "        },\n",
        "        {\n",
        "            \"attributes\": {\n",
        "                \"id\": 4,\n",
        "                \"coordinates\": [\n",
        "                    0,\n",
        "                    0\n",
        "                ]\n",
        "            },\n",
        "            \"relationships\": {}\n",
        "        }\n",
        "    ]\n",
        "}\n",
        "\n",
        "# Creating a Simulator object\n",
        "simulator = Simulator()\n",
        "\n",
        "# Loading the dataset from the dictionary \"my_simplified_dataset\"\n",
        "simulator.initialize(input_file=my_simplified_dataset)\n",
        "\n",
        "# Displaying the objects loaded from the dataset\n",
        "for user in User.all():\n",
        "    print(f\"{user}. Coordinates: {user.coordinates}\")"
      ]
    }
  ],
  "metadata": {
    "kernelspec": {
      "display_name": "edgesimpy-tutorials-xdN3S-F5-py3.10",
      "language": "python",
      "name": "python3"
    },
    "language_info": {
      "codemirror_mode": {
        "name": "ipython",
        "version": 3
      },
      "file_extension": ".py",
      "mimetype": "text/x-python",
      "name": "python",
      "nbconvert_exporter": "python",
      "pygments_lexer": "ipython3",
      "version": "3.10.16"
    },
    "orig_nbformat": 4,
    "colab": {
      "provenance": []
    }
  },
  "nbformat": 4,
  "nbformat_minor": 0
}